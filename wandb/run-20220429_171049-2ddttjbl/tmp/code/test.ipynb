{
 "cells": [
  {
   "cell_type": "code",
   "execution_count": 1,
   "id": "a5cd3f42-0532-4391-ad87-c2138d62f3c2",
   "metadata": {},
   "outputs": [],
   "source": [
    "from Model import *"
   ]
  },
  {
   "cell_type": "code",
   "execution_count": 2,
   "id": "1b1f433c-d7b6-4177-91a4-7b1d45c07708",
   "metadata": {},
   "outputs": [
    {
     "name": "stdout",
     "output_type": "stream",
     "text": [
      "Loading Data\n"
     ]
    },
    {
     "name": "stderr",
     "output_type": "stream",
     "text": [
      "100%|██████████████████████████| 42000/42000 [00:01<00:00, 39644.63it/s]\n"
     ]
    },
    {
     "name": "stdout",
     "output_type": "stream",
     "text": [
      "Data Loaded\n",
      "Creating Labels from the Classes\n"
     ]
    },
    {
     "name": "stderr",
     "output_type": "stream",
     "text": [
      "100%|███████████████████████████████| 10/10 [00:00<00:00, 262144.00it/s]\n"
     ]
    },
    {
     "name": "stdout",
     "output_type": "stream",
     "text": [
      "Created Labels from the Classes\n",
      "Converting Data -> X,y + train,test\n",
      "{1: 1, 7: 2, 3: 3, 9: 4, 2: 5, 6: 6, 0: 7, 4: 8, 8: 9, 5: 10}\n",
      "{1: 1, 2: 7, 3: 3, 4: 9, 5: 2, 6: 6, 7: 0, 8: 4, 9: 8, 10: 5}\n",
      "10\n",
      "31500 10500 31500 10500\n"
     ]
    }
   ],
   "source": [
    "ds = DataSet()\n",
    "X, y, classes, labels, idx, labels_r, X_train, y_train, X_test, y_test = ds.load_data()\n",
    "print(labels)\n",
    "print(labels_r)\n",
    "print(idx)\n",
    "print(len(X_train), len(X_test), len(y_train), len(y_test))"
   ]
  },
  {
   "cell_type": "code",
   "execution_count": 3,
   "id": "2eeb2725-c778-4cae-8098-917188059ad8",
   "metadata": {},
   "outputs": [],
   "source": [
    "model = CNN(idx_of_classes=idx).to(DEVICE)\n",
    "criterion = MSELoss()\n",
    "optimizer = Adam(model.parameters(), lr=0.001)"
   ]
  },
  {
   "cell_type": "code",
   "execution_count": null,
   "id": "4fb0e91e-c973-43d8-b9b1-da20ce0324f6",
   "metadata": {},
   "outputs": [
    {
     "name": "stderr",
     "output_type": "stream",
     "text": [
      "\u001b[34m\u001b[1mwandb\u001b[0m: Currently logged in as: \u001b[33mranuga-d\u001b[0m (use `wandb login --relogin` to force relogin)\n",
      "RuntimeError: module compiled against API version 0xe but this version of numpy is 0xd\n"
     ]
    },
    {
     "data": {
      "text/html": [
       "Tracking run with wandb version 0.12.15"
      ],
      "text/plain": [
       "<IPython.core.display.HTML object>"
      ]
     },
     "metadata": {},
     "output_type": "display_data"
    },
    {
     "data": {
      "text/html": [
       "Run data is saved locally in <code>/media/indika/Sync/Programmer-RD-AI/Programming/Projects/Python/Artifical-Intelligence/PyTorch/CNN/Digit-Recognizer/wandb/run-20220429_171049-2ddttjbl</code>"
      ],
      "text/plain": [
       "<IPython.core.display.HTML object>"
      ]
     },
     "metadata": {},
     "output_type": "display_data"
    },
    {
     "data": {
      "text/html": [
       "Syncing run <strong><a href=\"https://wandb.ai/ranuga-d/Digit-Recognizer-Competition/runs/2ddttjbl\" target=\"_blank\">BaseLine CNN</a></strong> to <a href=\"https://wandb.ai/ranuga-d/Digit-Recognizer-Competition\" target=\"_blank\">Weights & Biases</a> (<a href=\"https://wandb.me/run\" target=\"_blank\">docs</a>)<br/>"
      ],
      "text/plain": [
       "<IPython.core.display.HTML object>"
      ]
     },
     "metadata": {},
     "output_type": "display_data"
    },
    {
     "name": "stderr",
     "output_type": "stream",
     "text": [
      "  0%|                                           | 0/125 [00:00<?, ?it/s]\n",
      "12it [00:00, 12261.06it/s]\n",
      "\n",
      "0it [00:00, ?it/s]\u001b[A\n",
      "2762it [00:00, 27608.97it/s]\u001b[A\n",
      "5688it [00:00, 28578.14it/s]\u001b[A\n",
      "10500it [00:00, 28178.09it/s][A\n",
      "  1%|▎                                  | 1/125 [00:04<09:39,  4.68s/it]\n",
      "12it [00:00, 15897.55it/s]\n",
      "\n",
      "0it [00:00, ?it/s]\u001b[A\n",
      "2674it [00:00, 26730.98it/s]\u001b[A\n",
      "5434it [00:00, 27236.69it/s]\u001b[A\n",
      "10500it [00:00, 27618.00it/s][A\n",
      "  2%|▌                                  | 2/125 [00:09<09:27,  4.62s/it]\n",
      "12it [00:00, 16844.59it/s]\n",
      "\n",
      "0it [00:00, ?it/s]\u001b[A\n",
      "2684it [00:00, 26831.97it/s]\u001b[A\n",
      "5583it [00:00, 28100.07it/s]\u001b[A\n",
      "10500it [00:00, 27901.56it/s][A\n",
      "  2%|▊                                  | 3/125 [00:13<09:14,  4.54s/it]\n",
      "12it [00:00, 15141.89it/s]\n",
      "\n",
      "0it [00:00, ?it/s]\u001b[A\n",
      "2621it [00:00, 26205.84it/s]\u001b[A\n",
      "5242it [00:00, 25261.74it/s]\u001b[A\n",
      "10500it [00:00, 25554.10it/s][A\n",
      "  3%|█                                  | 4/125 [00:18<09:18,  4.61s/it]\n",
      "12it [00:00, 14130.17it/s]\n",
      "\n",
      "0it [00:00, ?it/s]\u001b[A\n",
      "2539it [00:00, 25382.94it/s]\u001b[A\n",
      "5247it [00:00, 26379.85it/s]\u001b[A\n",
      "10500it [00:00, 26928.50it/s][A\n",
      "  4%|█▍                                 | 5/125 [00:22<09:10,  4.59s/it]\n",
      "12it [00:00, 14913.08it/s]\n",
      "\n",
      "0it [00:00, ?it/s]\u001b[A\n",
      "2709it [00:00, 27086.41it/s]\u001b[A\n",
      "5615it [00:00, 28243.61it/s]\u001b[A\n",
      "10500it [00:00, 28278.02it/s][A\n",
      "  5%|█▋                                 | 6/125 [00:27<09:05,  4.59s/it]\n",
      "12it [00:00, 9514.49it/s]\n",
      "\n",
      "0it [00:00, ?it/s]\u001b[A\n",
      "2646it [00:00, 26458.45it/s]\u001b[A\n",
      "5423it [00:00, 27226.51it/s]\u001b[A\n",
      "10500it [00:00, 27184.31it/s][A\n",
      "  6%|█▉                                 | 7/125 [00:32<08:59,  4.57s/it]\n",
      "12it [00:00, 14886.62it/s]\n",
      "\n",
      "0it [00:00, ?it/s]\u001b[A\n",
      "2889it [00:00, 28886.72it/s]\u001b[A\n",
      "5778it [00:00, 28675.65it/s]\u001b[A\n",
      "10500it [00:00, 28956.74it/s][A\n",
      "  6%|██▏                                | 8/125 [00:36<08:58,  4.60s/it]\n",
      "12it [00:00, 14665.40it/s]\n",
      "\n",
      "0it [00:00, ?it/s]\u001b[A\n",
      "2780it [00:00, 27790.35it/s]\u001b[A\n",
      "5560it [00:00, 27541.88it/s]\u001b[A\n",
      "10500it [00:00, 27588.35it/s][A\n",
      "  7%|██▌                                | 9/125 [00:41<08:52,  4.59s/it]\n",
      "12it [00:00, 14656.86it/s]\n",
      "\n",
      "0it [00:00, ?it/s]\u001b[A\n",
      "2615it [00:00, 26146.97it/s]\u001b[A\n",
      "5424it [00:00, 27284.34it/s]\u001b[A\n",
      "10500it [00:00, 27919.84it/s][A\n",
      "  8%|██▋                               | 10/125 [00:45<08:43,  4.55s/it]\n",
      "12it [00:00, 18342.44it/s]\n",
      "\n",
      "0it [00:00, ?it/s]\u001b[A\n",
      "2762it [00:00, 27617.52it/s]\u001b[A\n",
      "5660it [00:00, 28414.98it/s]\u001b[A\n",
      "10500it [00:00, 28565.09it/s][A\n",
      "  9%|██▉                               | 11/125 [00:50<08:36,  4.53s/it]\n",
      "12it [00:00, 15060.34it/s]\n",
      "\n",
      "0it [00:00, ?it/s]\u001b[A\n",
      "2662it [00:00, 26617.36it/s]\u001b[A\n",
      "5562it [00:00, 28014.16it/s]\u001b[A\n",
      "10500it [00:00, 28098.94it/s][A\n",
      " 10%|███▎                              | 12/125 [00:54<08:27,  4.50s/it]\n",
      "12it [00:00, 13838.78it/s]\n",
      "\n",
      "0it [00:00, ?it/s]\u001b[A\n",
      "2880it [00:00, 28797.35it/s]\u001b[A\n",
      "5800it [00:00, 29032.83it/s]\u001b[A\n",
      "10500it [00:00, 28467.56it/s][A\n",
      " 10%|███▌                              | 13/125 [00:59<08:26,  4.52s/it]\n",
      "12it [00:00, 11501.75it/s]\n",
      "\n",
      "0it [00:00, ?it/s]\u001b[A\n",
      "2659it [00:00, 26580.27it/s]\u001b[A\n",
      "5534it [00:00, 27854.68it/s]\u001b[A\n",
      "10500it [00:00, 27846.01it/s][A\n",
      " 11%|███▊                              | 14/125 [01:03<08:18,  4.49s/it]\n",
      "12it [00:00, 5646.99it/s]\n",
      "\n",
      "0it [00:00, ?it/s]\u001b[A\n",
      "2632it [00:00, 26314.63it/s]\u001b[A\n",
      "5482it [00:00, 27596.88it/s]\u001b[A\n",
      "10500it [00:00, 27685.52it/s][A\n",
      " 12%|████                              | 15/125 [01:08<08:12,  4.48s/it]\n",
      "12it [00:00, 16861.52it/s]\n",
      "\n",
      "0it [00:00, ?it/s]\u001b[A\n",
      "2679it [00:00, 26783.51it/s]\u001b[A\n",
      "5570it [00:00, 28032.82it/s]\u001b[A\n",
      "10500it [00:00, 28239.07it/s][A\n",
      " 13%|████▎                             | 16/125 [01:12<08:04,  4.45s/it]\n",
      "12it [00:00, 17021.19it/s]\n",
      "\n",
      "0it [00:00, ?it/s]\u001b[A\n",
      "2639it [00:00, 26386.63it/s]\u001b[A\n",
      "5510it [00:00, 27748.63it/s]\u001b[A\n",
      "10500it [00:00, 28023.02it/s][A\n",
      " 14%|████▌                             | 17/125 [01:16<07:57,  4.42s/it]\n",
      "12it [00:00, 10457.44it/s]\n",
      "\n",
      "0it [00:00, ?it/s]\u001b[A\n",
      "2750it [00:00, 27496.22it/s]\u001b[A\n",
      "5604it [00:00, 28106.01it/s]\u001b[A\n",
      "10500it [00:00, 27681.66it/s][A\n",
      " 14%|████▉                             | 18/125 [01:21<07:52,  4.41s/it]\n",
      "12it [00:00, 11465.07it/s]\n",
      "\n",
      "0it [00:00, ?it/s]\u001b[A\n",
      "2712it [00:00, 27113.43it/s]\u001b[A\n",
      "5477it [00:00, 27426.39it/s]\u001b[A\n",
      "10500it [00:00, 27037.13it/s][A\n",
      " 15%|█████▏                            | 19/125 [01:25<07:51,  4.45s/it]\n",
      "12it [00:00, 15902.57it/s]\n",
      "\n",
      "0it [00:00, ?it/s]\u001b[A\n",
      "2653it [00:00, 26523.07it/s]\u001b[A\n",
      "5434it [00:00, 27263.54it/s]\u001b[A\n",
      "10500it [00:00, 26102.24it/s][A\n",
      " 16%|█████▍                            | 20/125 [01:30<08:04,  4.61s/it]\n",
      "12it [00:00, 10903.74it/s]\n",
      "\n",
      "0it [00:00, ?it/s]\u001b[A\n",
      "2582it [00:00, 25816.27it/s]\u001b[A\n",
      "5164it [00:00, 22678.96it/s]\u001b[A\n",
      "7457it [00:00, 21484.31it/s]\u001b[A\n",
      "10500it [00:00, 22795.57it/s]\u001b[A\n",
      " 17%|█████▋                            | 21/125 [01:35<08:14,  4.76s/it]\n",
      "12it [00:00, 13454.06it/s]\n",
      "\n",
      "0it [00:00, ?it/s]\u001b[A\n",
      "2383it [00:00, 23823.26it/s]\u001b[A\n",
      "5126it [00:00, 25942.86it/s]\u001b[A\n",
      "10500it [00:00, 26271.10it/s][A\n",
      " 18%|█████▉                            | 22/125 [01:40<08:17,  4.83s/it]\n",
      "12it [00:00, 9418.35it/s]\n",
      "\n",
      "0it [00:00, ?it/s]\u001b[A\n",
      "2890it [00:00, 28894.93it/s]\u001b[A\n",
      "5780it [00:00, 28257.63it/s]\u001b[A\n",
      "10500it [00:00, 27535.00it/s][A\n",
      " 18%|██████▎                           | 23/125 [01:45<08:17,  4.87s/it]\n",
      "12it [00:00, 10259.20it/s]\n",
      "\n",
      "0it [00:00, ?it/s]\u001b[A\n",
      "2698it [00:00, 26974.11it/s]\u001b[A\n",
      "5652it [00:00, 28481.86it/s]\u001b[A\n",
      "10500it [00:00, 27886.62it/s][A\n",
      " 19%|██████▌                           | 24/125 [01:50<08:08,  4.83s/it]\n",
      "12it [00:00, 12035.31it/s]\n",
      "\n",
      "0it [00:00, ?it/s]\u001b[A\n",
      "2685it [00:00, 26839.79it/s]\u001b[A\n",
      "5373it [00:00, 26860.67it/s]\u001b[A\n",
      "10500it [00:00, 27294.72it/s][A\n",
      " 20%|██████▊                           | 25/125 [01:55<08:03,  4.84s/it]\n",
      "12it [00:00, 12761.57it/s]\n",
      "\n",
      "0it [00:00, ?it/s]\u001b[A\n",
      "2764it [00:00, 27631.79it/s]\u001b[A\n",
      "5568it [00:00, 27866.00it/s]\u001b[A\n",
      "10500it [00:00, 27862.85it/s][A\n",
      " 21%|███████                           | 26/125 [02:00<07:58,  4.84s/it]\n",
      "12it [00:00, 15284.44it/s]"
     ]
    }
   ],
   "source": [
    "hp = Help_Funcs()\n",
    "(\n",
    "    PROJECT_NAME,\n",
    "    name,\n",
    "    epochs,\n",
    "    X_train,\n",
    "    y_train,\n",
    "    X_test,\n",
    "    y_test,\n",
    "    batch_size,\n",
    "    device,\n",
    "    model,\n",
    "    criterion,\n",
    "    optimizer,\n",
    ") = hp.train(\n",
    "    PROJECT_NAME,\n",
    "    \"BaseLine CNN\",\n",
    "    125,\n",
    "    X_train.view(-1, 1, 28, 28).to(DEVICE),\n",
    "    y_train.to(DEVICE),\n",
    "    X_test.view(-1, 1, 28, 28),\n",
    "    y_test.to(DEVICE),\n",
    "    BATCH_SIZE,\n",
    "    DEVICE,\n",
    "    model,\n",
    "    criterion,\n",
    "    optimizer,\n",
    "    labels_r,\n",
    ")"
   ]
  },
  {
   "cell_type": "code",
   "execution_count": null,
   "id": "a383afd0-0cac-4d77-8a7c-6615ccf40009",
   "metadata": {},
   "outputs": [],
   "source": [
    "img = cv2.imread(f'./Model/tests/{os.listdir(\"./Model/tests/\")[0]}')\n",
    "img = cv2.cvtColor(img,cv2.COLOR_BGR2GRAY)\n",
    "img = cv2.resize(img,(28,28))\n",
    "img = img / 255.0"
   ]
  },
  {
   "cell_type": "code",
   "execution_count": null,
   "id": "4b91a7a8-8c33-4c42-a71b-1d611a8b7b19",
   "metadata": {},
   "outputs": [],
   "source": [
    "plt.imshow(img)"
   ]
  },
  {
   "cell_type": "code",
   "execution_count": null,
   "id": "747d322d-ee5f-4f5c-893e-02b708a40230",
   "metadata": {},
   "outputs": [],
   "source": [
    "model.eval()\n",
    "img = torch.tensor(img).view(-1,1,28,28).float().to('cuda')\n",
    "with torch.no_grad():\n",
    "    pred = model(img)"
   ]
  },
  {
   "cell_type": "code",
   "execution_count": null,
   "id": "6b4855af-fc62-46f2-95ec-a8937f2f849f",
   "metadata": {},
   "outputs": [],
   "source": [
    "pred"
   ]
  },
  {
   "cell_type": "code",
   "execution_count": null,
   "id": "aa456e88-41e8-4766-b43f-7d030986ed39",
   "metadata": {},
   "outputs": [],
   "source": [
    "labels_r[int(torch.argmax(pred[0]))]"
   ]
  },
  {
   "cell_type": "code",
   "execution_count": null,
   "id": "877073f6-053c-426b-b934-affb7896eac2",
   "metadata": {},
   "outputs": [],
   "source": []
  }
 ],
 "metadata": {
  "kernelspec": {
   "display_name": "Python 3 (ipykernel)",
   "language": "python",
   "name": "python3"
  },
  "language_info": {
   "codemirror_mode": {
    "name": "ipython",
    "version": 3
   },
   "file_extension": ".py",
   "mimetype": "text/x-python",
   "name": "python",
   "nbconvert_exporter": "python",
   "pygments_lexer": "ipython3",
   "version": "3.8.10"
  }
 },
 "nbformat": 4,
 "nbformat_minor": 5
}
