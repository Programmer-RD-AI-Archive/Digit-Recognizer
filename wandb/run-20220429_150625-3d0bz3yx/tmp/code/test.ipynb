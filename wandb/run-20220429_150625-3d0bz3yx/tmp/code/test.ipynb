{
 "cells": [
  {
   "cell_type": "code",
   "execution_count": 1,
   "id": "a5cd3f42-0532-4391-ad87-c2138d62f3c2",
   "metadata": {},
   "outputs": [],
   "source": [
    "from Model import *"
   ]
  },
  {
   "cell_type": "code",
   "execution_count": 2,
   "id": "1b1f433c-d7b6-4177-91a4-7b1d45c07708",
   "metadata": {},
   "outputs": [
    {
     "name": "stdout",
     "output_type": "stream",
     "text": [
      "Loading Data\n"
     ]
    },
    {
     "name": "stderr",
     "output_type": "stream",
     "text": [
      "100%|██████████████████████████| 42000/42000 [00:01<00:00, 38787.48it/s]\n"
     ]
    },
    {
     "name": "stdout",
     "output_type": "stream",
     "text": [
      "Data Loaded\n",
      "Creating Labels from the Classes\n"
     ]
    },
    {
     "name": "stderr",
     "output_type": "stream",
     "text": [
      "100%|███████████████████████████████| 10/10 [00:00<00:00, 171196.08it/s]\n"
     ]
    },
    {
     "name": "stdout",
     "output_type": "stream",
     "text": [
      "Created Labels from the Classes\n",
      "Converting Data -> X,y + train,test\n",
      "{1: 1, 7: 2, 3: 3, 9: 4, 2: 5, 6: 6, 0: 7, 4: 8, 8: 9, 5: 10}\n",
      "{1: 1, 2: 7, 3: 3, 4: 9, 5: 2, 6: 6, 7: 0, 8: 4, 9: 8, 10: 5}\n",
      "10\n",
      "31500 10500 31500 10500\n"
     ]
    }
   ],
   "source": [
    "ds = DataSet()\n",
    "X, y, classes, labels, idx, labels_r, X_train, y_train, X_test, y_test = ds.load_data()\n",
    "print(labels)\n",
    "print(labels_r)\n",
    "print(idx)\n",
    "print(len(X_train), len(X_test), len(y_train), len(y_test))"
   ]
  },
  {
   "cell_type": "code",
   "execution_count": 3,
   "id": "2eeb2725-c778-4cae-8098-917188059ad8",
   "metadata": {},
   "outputs": [],
   "source": [
    "model = CNN(idx_of_classes=idx).to(DEVICE)\n",
    "criterion = MSELoss()\n",
    "optimizer = Adam(model.parameters(), lr=0.001)"
   ]
  },
  {
   "cell_type": "code",
   "execution_count": null,
   "id": "4fb0e91e-c973-43d8-b9b1-da20ce0324f6",
   "metadata": {},
   "outputs": [
    {
     "name": "stderr",
     "output_type": "stream",
     "text": [
      "\u001b[34m\u001b[1mwandb\u001b[0m: Currently logged in as: \u001b[33mranuga-d\u001b[0m (use `wandb login --relogin` to force relogin)\n",
      "RuntimeError: module compiled against API version 0xe but this version of numpy is 0xd\n"
     ]
    },
    {
     "data": {
      "text/html": [
       "Tracking run with wandb version 0.12.15"
      ],
      "text/plain": [
       "<IPython.core.display.HTML object>"
      ]
     },
     "metadata": {},
     "output_type": "display_data"
    },
    {
     "data": {
      "text/html": [
       "Run data is saved locally in <code>/media/indika/Sync/Programmer-RD-AI/Programming/Projects/Python/Artifical-Intelligence/PyTorch/CNN/Digit-Recognizer/wandb/run-20220429_150625-3d0bz3yx</code>"
      ],
      "text/plain": [
       "<IPython.core.display.HTML object>"
      ]
     },
     "metadata": {},
     "output_type": "display_data"
    },
    {
     "data": {
      "text/html": [
       "Syncing run <strong><a href=\"https://wandb.ai/ranuga-d/Digit-Recognizer-Competition/runs/3d0bz3yx\" target=\"_blank\">BaseLine CNN</a></strong> to <a href=\"https://wandb.ai/ranuga-d/Digit-Recognizer-Competition\" target=\"_blank\">Weights & Biases</a> (<a href=\"https://wandb.me/run\" target=\"_blank\">docs</a>)<br/>"
      ],
      "text/plain": [
       "<IPython.core.display.HTML object>"
      ]
     },
     "metadata": {},
     "output_type": "display_data"
    },
    {
     "name": "stderr",
     "output_type": "stream",
     "text": [
      "  0%|                                           | 0/125 [00:00<?, ?it/s]\n",
      "12it [00:00, 4493.90it/s]\n",
      "\n",
      "0it [00:00, ?it/s]\u001b[A\n",
      "2415it [00:00, 24141.62it/s]\u001b[A\n",
      "5112it [00:00, 25799.76it/s]\u001b[A\n",
      "7692it [00:00, 25052.39it/s]\u001b[A\n",
      "10500it [00:00, 25282.63it/s]\u001b[A\n",
      "  1%|▎                                  | 1/125 [00:04<09:30,  4.60s/it]\n",
      "12it [00:00, 15265.89it/s]\n",
      "\n",
      "0it [00:00, ?it/s]\u001b[A\n",
      "2916it [00:00, 29155.58it/s]\u001b[A\n",
      "6011it [00:00, 30206.37it/s]\u001b[A\n",
      "10500it [00:00, 30063.92it/s][A\n",
      "  2%|▌                                  | 2/125 [00:08<09:07,  4.45s/it]\n",
      "12it [00:00, 13617.87it/s]\n",
      "\n",
      "0it [00:00, ?it/s]\u001b[A\n",
      "2819it [00:00, 28182.43it/s]\u001b[A\n",
      "5838it [00:00, 29358.10it/s]\u001b[A\n",
      "10500it [00:00, 29346.88it/s][A\n",
      "  2%|▊                                  | 3/125 [00:13<08:49,  4.34s/it]\n",
      "12it [00:00, 14961.85it/s]\n",
      "\n",
      "0it [00:00, ?it/s]\u001b[A\n",
      "3111it [00:00, 31106.02it/s]\u001b[A\n",
      "6222it [00:00, 30915.66it/s]\u001b[A\n",
      "10500it [00:00, 30640.66it/s][A\n",
      "  3%|█                                  | 4/125 [00:17<08:49,  4.38s/it]\n",
      "12it [00:00, 16357.38it/s]\n",
      "\n",
      "0it [00:00, ?it/s]\u001b[A\n",
      "2542it [00:00, 25414.21it/s]\u001b[A\n",
      "5338it [00:00, 26908.81it/s]\u001b[A\n",
      "10500it [00:00, 27883.62it/s][A\n",
      "  4%|█▍                                 | 5/125 [00:21<08:38,  4.32s/it]\n",
      "12it [00:00, 15275.16it/s]\n",
      "\n",
      "0it [00:00, ?it/s]\u001b[A\n",
      "2948it [00:00, 29471.32it/s]\u001b[A\n",
      "5927it [00:00, 29650.70it/s]\u001b[A\n",
      "10500it [00:00, 29676.60it/s][A\n",
      "  5%|█▋                                 | 6/125 [00:25<08:25,  4.25s/it]\n",
      "12it [00:00, 16721.48it/s]\n",
      "\n",
      "0it [00:00, ?it/s]\u001b[A\n",
      "2910it [00:00, 29089.14it/s]\u001b[A\n",
      "5920it [00:00, 29682.02it/s]\u001b[A\n",
      "10500it [00:00, 29481.71it/s][A\n",
      "  6%|█▉                                 | 7/125 [00:29<08:13,  4.18s/it]"
     ]
    }
   ],
   "source": [
    "hp = Help_Funcs()\n",
    "(\n",
    "    PROJECT_NAME,\n",
    "    name,\n",
    "    epochs,\n",
    "    X_train,\n",
    "    y_train,\n",
    "    X_test,\n",
    "    y_test,\n",
    "    batch_size,\n",
    "    device,\n",
    "    model,\n",
    "    criterion,\n",
    "    optimizer,\n",
    ") = hp.train(\n",
    "    PROJECT_NAME,\n",
    "    \"BaseLine CNN\",\n",
    "    125,\n",
    "    X_train.view(-1, 1, 28, 28).to(DEVICE),\n",
    "    y_train.to(DEVICE),\n",
    "    X_test.view(-1, 1, 28, 28),\n",
    "    y_test.to(DEVICE),\n",
    "    BATCH_SIZE,\n",
    "    DEVICE,\n",
    "    model,\n",
    "    criterion,\n",
    "    optimizer,\n",
    "    labels_r,\n",
    ")"
   ]
  },
  {
   "cell_type": "code",
   "execution_count": null,
   "id": "99da3e04-cddd-4e8f-9579-d0b32e7102a0",
   "metadata": {},
   "outputs": [],
   "source": []
  }
 ],
 "metadata": {
  "kernelspec": {
   "display_name": "Python 3 (ipykernel)",
   "language": "python",
   "name": "python3"
  },
  "language_info": {
   "codemirror_mode": {
    "name": "ipython",
    "version": 3
   },
   "file_extension": ".py",
   "mimetype": "text/x-python",
   "name": "python",
   "nbconvert_exporter": "python",
   "pygments_lexer": "ipython3",
   "version": "3.8.10"
  }
 },
 "nbformat": 4,
 "nbformat_minor": 5
}
