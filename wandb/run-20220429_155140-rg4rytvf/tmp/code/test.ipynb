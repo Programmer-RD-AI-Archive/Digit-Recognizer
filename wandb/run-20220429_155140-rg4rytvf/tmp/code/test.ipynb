{
 "cells": [
  {
   "cell_type": "code",
   "execution_count": null,
   "id": "a5cd3f42-0532-4391-ad87-c2138d62f3c2",
   "metadata": {},
   "outputs": [],
   "source": [
    "from Model import *"
   ]
  },
  {
   "cell_type": "code",
   "execution_count": null,
   "id": "1b1f433c-d7b6-4177-91a4-7b1d45c07708",
   "metadata": {},
   "outputs": [],
   "source": [
    "ds = DataSet()\n",
    "X, y, classes, labels, idx, labels_r, X_train, y_train, X_test, y_test = ds.load_data()\n",
    "print(labels)\n",
    "print(labels_r)\n",
    "print(idx)\n",
    "print(len(X_train), len(X_test), len(y_train), len(y_test))"
   ]
  },
  {
   "cell_type": "code",
   "execution_count": null,
   "id": "2eeb2725-c778-4cae-8098-917188059ad8",
   "metadata": {},
   "outputs": [],
   "source": [
    "model = CNN(idx_of_classes=idx).to(DEVICE)\n",
    "criterion = MSELoss()\n",
    "optimizer = Adam(model.parameters(), lr=0.001)"
   ]
  },
  {
   "cell_type": "code",
   "execution_count": null,
   "id": "4fb0e91e-c973-43d8-b9b1-da20ce0324f6",
   "metadata": {},
   "outputs": [],
   "source": [
    "hp = Help_Funcs()\n",
    "(\n",
    "    PROJECT_NAME,\n",
    "    name,\n",
    "    epochs,\n",
    "    X_train,\n",
    "    y_train,\n",
    "    X_test,\n",
    "    y_test,\n",
    "    batch_size,\n",
    "    device,\n",
    "    model,\n",
    "    criterion,\n",
    "    optimizer,\n",
    ") = hp.train(\n",
    "    PROJECT_NAME,\n",
    "    \"BaseLine CNN\",\n",
    "    125,\n",
    "    X_train.view(-1, 1, 28, 28).to(DEVICE),\n",
    "    y_train.to(DEVICE),\n",
    "    X_test.view(-1, 1, 28, 28),\n",
    "    y_test.to(DEVICE),\n",
    "    BATCH_SIZE,\n",
    "    DEVICE,\n",
    "    model,\n",
    "    criterion,\n",
    "    optimizer,\n",
    "    labels_r,\n",
    ")"
   ]
  },
  {
   "cell_type": "code",
   "execution_count": null,
   "id": "99da3e04-cddd-4e8f-9579-d0b32e7102a0",
   "metadata": {},
   "outputs": [],
   "source": [
    "img = cv2.imread('./Model/tests/download (1).jpeg')"
   ]
  },
  {
   "cell_type": "code",
   "execution_count": null,
   "id": "a383afd0-0cac-4d77-8a7c-6615ccf40009",
   "metadata": {},
   "outputs": [],
   "source": [
    "img = cv2.resize(img,(28,28))"
   ]
  },
  {
   "cell_type": "code",
   "execution_count": null,
   "id": "4b91a7a8-8c33-4c42-a71b-1d611a8b7b19",
   "metadata": {},
   "outputs": [],
   "source": [
    "img = img / 255.0"
   ]
  },
  {
   "cell_type": "code",
   "execution_count": null,
   "id": "a5bd3c33-2f32-472e-b0a0-41b78de1e223",
   "metadata": {},
   "outputs": [],
   "source": [
    "plt.imshow(img)"
   ]
  },
  {
   "cell_type": "code",
   "execution_count": null,
   "id": "200e57bf-9512-4b18-93fe-9a9fd7213f73",
   "metadata": {},
   "outputs": [],
   "source": [
    "img = torch.tensor(img).view(-1,1,28,28).float().to('cuda')"
   ]
  },
  {
   "cell_type": "code",
   "execution_count": null,
   "id": "747d322d-ee5f-4f5c-893e-02b708a40230",
   "metadata": {},
   "outputs": [],
   "source": [
    "model.eval()"
   ]
  },
  {
   "cell_type": "code",
   "execution_count": null,
   "id": "36eb2ffa-be66-46d7-a080-4ca71261fd26",
   "metadata": {},
   "outputs": [],
   "source": [
    "pred = model(img)"
   ]
  },
  {
   "cell_type": "code",
   "execution_count": null,
   "id": "1c6a8313-1ed2-46f8-9a4a-0578241d1244",
   "metadata": {},
   "outputs": [],
   "source": [
    "pred"
   ]
  },
  {
   "cell_type": "code",
   "execution_count": null,
   "id": "fb4bc9b3-7e20-48d4-bbbb-ffdd868a5d35",
   "metadata": {},
   "outputs": [],
   "source": [
    "torch.argmax(pred[0])"
   ]
  },
  {
   "cell_type": "code",
   "execution_count": null,
   "id": "16f87f4e-4de4-4d08-9813-77805c9c8474",
   "metadata": {},
   "outputs": [],
   "source": [
    "torch.argmax(pred[1])"
   ]
  },
  {
   "cell_type": "code",
   "execution_count": null,
   "id": "9d43c711-34e7-423e-b64a-ed0a8847043a",
   "metadata": {},
   "outputs": [],
   "source": [
    "torch.argmax(pred[2])"
   ]
  },
  {
   "cell_type": "code",
   "execution_count": null,
   "id": "3c1438b5-1d01-4deb-a797-a3c99b7cf7e8",
   "metadata": {},
   "outputs": [],
   "source": []
  }
 ],
 "metadata": {
  "kernelspec": {
   "display_name": "Python 3 (ipykernel)",
   "language": "python",
   "name": "python3"
  },
  "language_info": {
   "codemirror_mode": {
    "name": "ipython",
    "version": 3
   },
   "file_extension": ".py",
   "mimetype": "text/x-python",
   "name": "python",
   "nbconvert_exporter": "python",
   "pygments_lexer": "ipython3",
   "version": "3.8.10"
  }
 },
 "nbformat": 4,
 "nbformat_minor": 5
}
