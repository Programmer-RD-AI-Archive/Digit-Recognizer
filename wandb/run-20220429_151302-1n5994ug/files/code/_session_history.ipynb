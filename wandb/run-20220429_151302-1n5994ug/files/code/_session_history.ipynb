{
 "cells": [
  {
   "cell_type": "code",
   "execution_count": 1,
   "id": "235c0a25",
   "metadata": {},
   "outputs": [],
   "source": [
    "from Model import *"
   ]
  },
  {
   "cell_type": "code",
   "execution_count": 2,
   "id": "2a107293",
   "metadata": {},
   "outputs": [],
   "source": [
    "ds = DataSet()\n",
    "X, y, classes, labels, idx, labels_r, X_train, y_train, X_test, y_test = ds.load_data()\n",
    "print(labels)\n",
    "print(labels_r)\n",
    "print(idx)\n",
    "print(len(X_train), len(X_test), len(y_train), len(y_test))"
   ]
  },
  {
   "cell_type": "code",
   "execution_count": 3,
   "id": "60e8210a",
   "metadata": {},
   "outputs": [],
   "source": [
    "model = CNN(idx_of_classes=idx).to(DEVICE)\n",
    "criterion = MSELoss()\n",
    "optimizer = Adam(model.parameters(), lr=0.001)"
   ]
  },
  {
   "cell_type": "code",
   "execution_count": 4,
   "id": "9b386728",
   "metadata": {},
   "outputs": [
    {
     "data": {
      "text/html": [
       "Tracking run with wandb version 0.12.15"
      ],
      "text/plain": [
       "<IPython.core.display.HTML object>"
      ]
     },
     "metadata": {},
     "output_type": "display_data"
    },
    {
     "data": {
      "text/html": [
       "Run data is saved locally in <code>/media/indika/Sync/Programmer-RD-AI/Programming/Projects/Python/Artifical-Intelligence/PyTorch/CNN/Digit-Recognizer/wandb/run-20220429_151302-1n5994ug</code>"
      ],
      "text/plain": [
       "<IPython.core.display.HTML object>"
      ]
     },
     "metadata": {},
     "output_type": "display_data"
    },
    {
     "data": {
      "text/html": [
       "Syncing run <strong><a href=\"https://wandb.ai/ranuga-d/Digit-Recognizer-Competition/runs/1n5994ug\" target=\"_blank\">BaseLine CNN</a></strong> to <a href=\"https://wandb.ai/ranuga-d/Digit-Recognizer-Competition\" target=\"_blank\">Weights & Biases</a> (<a href=\"https://wandb.me/run\" target=\"_blank\">docs</a>)<br/>"
      ],
      "text/plain": [
       "<IPython.core.display.HTML object>"
      ]
     },
     "metadata": {},
     "output_type": "display_data"
    }
   ],
   "source": [
    "hp = Help_Funcs()\n",
    "(\n",
    "    PROJECT_NAME,\n",
    "    name,\n",
    "    epochs,\n",
    "    X_train,\n",
    "    y_train,\n",
    "    X_test,\n",
    "    y_test,\n",
    "    batch_size,\n",
    "    device,\n",
    "    model,\n",
    "    criterion,\n",
    "    optimizer,\n",
    ") = hp.train(\n",
    "    PROJECT_NAME,\n",
    "    \"BaseLine CNN\",\n",
    "    125,\n",
    "    X_train.view(-1, 1, 28, 28).to(DEVICE),\n",
    "    y_train.to(DEVICE),\n",
    "    X_test.view(-1, 1, 28, 28),\n",
    "    y_test.to(DEVICE),\n",
    "    BATCH_SIZE,\n",
    "    DEVICE,\n",
    "    model,\n",
    "    criterion,\n",
    "    optimizer,\n",
    "    labels_r,\n",
    ")"
   ]
  }
 ],
 "metadata": {
  "kernelspec": {
   "display_name": "Python 3",
   "language": "python",
   "name": "python3"
  },
  "language_info": {
   "codemirror_mode": {
    "name": "ipython",
    "version": 3
   },
   "file_extension": ".py",
   "mimetype": "text/x-python",
   "name": "python",
   "nbconvert_exporter": "python",
   "pygments_lexer": "ipython3",
   "version": "3.8.10"
  }
 },
 "nbformat": 4,
 "nbformat_minor": 5
}
