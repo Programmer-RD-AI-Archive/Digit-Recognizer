{
 "cells": [
  {
   "cell_type": "code",
   "execution_count": 1,
   "id": "d63db34f",
   "metadata": {},
   "outputs": [],
   "source": [
    "from Model import *"
   ]
  },
  {
   "cell_type": "code",
   "execution_count": 2,
   "id": "ef85b159",
   "metadata": {},
   "outputs": [],
   "source": [
    "ds = DataSet()\n",
    "X, y, classes, labels, idx, labels_r, X_train, y_train, X_test, y_test = ds.load_data()\n",
    "print(labels)\n",
    "print(labels_r)\n",
    "print(idx)\n",
    "print(len(X_train), len(X_test), len(y_train), len(y_test))"
   ]
  },
  {
   "cell_type": "code",
   "execution_count": 3,
   "id": "86bff7b7",
   "metadata": {},
   "outputs": [],
   "source": [
    "model = CNN(idx_of_classes=idx).to(DEVICE)\n",
    "criterion = MSELoss()\n",
    "optimizer = Adam(model.parameters(), lr=0.001)"
   ]
  },
  {
   "cell_type": "code",
   "execution_count": 4,
   "id": "c17a449e",
   "metadata": {},
   "outputs": [],
   "source": [
    "hp = Help_Funcs()\n",
    "(\n",
    "    PROJECT_NAME,\n",
    "    name,\n",
    "    epochs,\n",
    "    X_train,\n",
    "    y_train,\n",
    "    X_test,\n",
    "    y_test,\n",
    "    batch_size,\n",
    "    device,\n",
    "    model,\n",
    "    criterion,\n",
    "    optimizer,\n",
    ") = hp.train(\n",
    "    PROJECT_NAME,\n",
    "    \"BaseLine CNN\",\n",
    "    125,\n",
    "    X_train.view(-1, 1, 28, 28).to(DEVICE),\n",
    "    y_train.to(DEVICE),\n",
    "    X_test.view(-1, 1, 28, 28),\n",
    "    y_test.to(DEVICE),\n",
    "    BATCH_SIZE,\n",
    "    DEVICE,\n",
    "    model,\n",
    "    criterion,\n",
    "    optimizer,\n",
    "    labels_r,\n",
    ")"
   ]
  },
  {
   "cell_type": "code",
   "execution_count": 5,
   "id": "91193cb1",
   "metadata": {},
   "outputs": [],
   "source": [
    "hp = Help_Funcs()\n",
    "(\n",
    "    PROJECT_NAME,\n",
    "    name,\n",
    "    epochs,\n",
    "    X_train,\n",
    "    y_train,\n",
    "    X_test,\n",
    "    y_test,\n",
    "    batch_size,\n",
    "    device,\n",
    "    model,\n",
    "    criterion,\n",
    "    optimizer,\n",
    ") = hp.train(\n",
    "    PROJECT_NAME,\n",
    "    \"BaseLine CNN\",\n",
    "    125,\n",
    "    X_train.float().view(-1, 1, 28, 28).to(DEVICE),\n",
    "    y_train.float().to(DEVICE),\n",
    "    X_test.float().view(-1, 1, 28, 28),\n",
    "    y_test.float().to(DEVICE),\n",
    "    BATCH_SIZE,\n",
    "    DEVICE,\n",
    "    model,\n",
    "    criterion,\n",
    "    optimizer,\n",
    "    labels_r,\n",
    ")"
   ]
  },
  {
   "cell_type": "code",
   "execution_count": 6,
   "id": "15db3937",
   "metadata": {},
   "outputs": [],
   "source": [
    "img = cv2.imread(f'./Model/tests/{os.listdir(\"./Model/tests/\")[0]}')\n",
    "img = cv2.cvtColor(img,cv2.COLOR_BGR2GRAY)\n",
    "img = cv2.resize(img,(28,28))\n",
    "img = img / 255.0"
   ]
  },
  {
   "cell_type": "code",
   "execution_count": 7,
   "id": "909eac9c",
   "metadata": {},
   "outputs": [
    {
     "name": "stdout",
     "output_type": "stream",
     "text": [
      "<matplotlib.image.AxesImage at 0x7f0bce87bb80>"
     ]
    }
   ],
   "source": [
    "plt.imshow(img)"
   ]
  },
  {
   "cell_type": "code",
   "execution_count": 8,
   "id": "4aad20c3",
   "metadata": {},
   "outputs": [],
   "source": [
    "model.eval()\n",
    "img = torch.tensor(img).view(-1,1,28,28).float().to('cuda')\n",
    "with torch.no_grad():\n",
    "    pred = model(img)"
   ]
  },
  {
   "cell_type": "code",
   "execution_count": 9,
   "id": "d608de67",
   "metadata": {},
   "outputs": [
    {
     "name": "stdout",
     "output_type": "stream",
     "text": [
      "tensor([[-2.5975e-04, -4.8262e-03, -2.8985e-03,  2.2895e-03, -4.7996e-03,\n",
      "          2.8054e-03,  7.5383e-04,  1.3904e-03,  1.0077e+00,  4.0079e-03]],\n",
      "       device='cuda:0')"
     ]
    }
   ],
   "source": [
    "pred"
   ]
  },
  {
   "cell_type": "code",
   "execution_count": 10,
   "id": "70519b72",
   "metadata": {},
   "outputs": [
    {
     "name": "stdout",
     "output_type": "stream",
     "text": [
      "4"
     ]
    }
   ],
   "source": [
    "labels_r[int(torch.argmax(pred[0]))]"
   ]
  },
  {
   "cell_type": "code",
   "execution_count": 11,
   "id": "b971ec9f",
   "metadata": {},
   "outputs": [],
   "source": [
    "model = CNN(idx_of_classes=idx).to(DEVICE)\n",
    "criterion = CrossEntropyLoss()\n",
    "optimizer = Adam(model.parameters(), lr=0.001)"
   ]
  },
  {
   "cell_type": "code",
   "execution_count": 12,
   "id": "d03cfb03",
   "metadata": {},
   "outputs": [
    {
     "data": {
      "text/html": [
       "Tracking run with wandb version 0.12.15"
      ],
      "text/plain": [
       "<IPython.core.display.HTML object>"
      ]
     },
     "metadata": {},
     "output_type": "display_data"
    },
    {
     "data": {
      "text/html": [
       "Run data is saved locally in <code>/media/indika/Sync/Programmer-RD-AI/Programming/Projects/Python/Artifical-Intelligence/PyTorch/CNN/Digit-Recognizer/wandb/run-20220429_172535-1smah8hr</code>"
      ],
      "text/plain": [
       "<IPython.core.display.HTML object>"
      ]
     },
     "metadata": {},
     "output_type": "display_data"
    },
    {
     "data": {
      "text/html": [
       "Syncing run <strong><a href=\"https://wandb.ai/ranuga-d/Digit-Recognizer-Competition/runs/1smah8hr\" target=\"_blank\">BaseLine CNN CrossEntropyLoss</a></strong> to <a href=\"https://wandb.ai/ranuga-d/Digit-Recognizer-Competition\" target=\"_blank\">Weights & Biases</a> (<a href=\"https://wandb.me/run\" target=\"_blank\">docs</a>)<br/>"
      ],
      "text/plain": [
       "<IPython.core.display.HTML object>"
      ]
     },
     "metadata": {},
     "output_type": "display_data"
    }
   ],
   "source": [
    "hp = Help_Funcs()\n",
    "(\n",
    "    PROJECT_NAME,\n",
    "    name,\n",
    "    epochs,\n",
    "    X_train,\n",
    "    y_train,\n",
    "    X_test,\n",
    "    y_test,\n",
    "    batch_size,\n",
    "    device,\n",
    "    model,\n",
    "    criterion,\n",
    "    optimizer,\n",
    ") = hp.train(\n",
    "    PROJECT_NAME,\n",
    "    \"BaseLine CNN CrossEntropyLoss\",\n",
    "    125,\n",
    "    X_train.view(-1, 1, 28, 28).to(DEVICE),\n",
    "    y_train.to(DEVICE),\n",
    "    X_test.view(-1, 1, 28, 28),\n",
    "    y_test.to(DEVICE),\n",
    "    BATCH_SIZE,\n",
    "    DEVICE,\n",
    "    model,\n",
    "    criterion,\n",
    "    optimizer,\n",
    "    labels_r,\n",
    ")"
   ]
  }
 ],
 "metadata": {
  "kernelspec": {
   "display_name": "Python 3",
   "language": "python",
   "name": "python3"
  },
  "language_info": {
   "codemirror_mode": {
    "name": "ipython",
    "version": 3
   },
   "file_extension": ".py",
   "mimetype": "text/x-python",
   "name": "python",
   "nbconvert_exporter": "python",
   "pygments_lexer": "ipython3",
   "version": "3.8.10"
  }
 },
 "nbformat": 4,
 "nbformat_minor": 5
}
