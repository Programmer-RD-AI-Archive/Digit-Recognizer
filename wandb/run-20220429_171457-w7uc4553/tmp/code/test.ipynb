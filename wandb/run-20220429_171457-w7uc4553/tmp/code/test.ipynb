{
 "cells": [
  {
   "cell_type": "code",
   "execution_count": 1,
   "id": "a5cd3f42-0532-4391-ad87-c2138d62f3c2",
   "metadata": {},
   "outputs": [],
   "source": [
    "from Model import *"
   ]
  },
  {
   "cell_type": "code",
   "execution_count": 2,
   "id": "1b1f433c-d7b6-4177-91a4-7b1d45c07708",
   "metadata": {},
   "outputs": [
    {
     "name": "stdout",
     "output_type": "stream",
     "text": [
      "Loading Data\n"
     ]
    },
    {
     "name": "stderr",
     "output_type": "stream",
     "text": [
      "100%|██████████████████████████| 42000/42000 [00:01<00:00, 38416.30it/s]\n"
     ]
    },
    {
     "name": "stdout",
     "output_type": "stream",
     "text": [
      "Data Loaded\n",
      "Creating Labels from the Classes\n"
     ]
    },
    {
     "name": "stderr",
     "output_type": "stream",
     "text": [
      "100%|███████████████████████████████| 10/10 [00:00<00:00, 242445.32it/s]\n"
     ]
    },
    {
     "name": "stdout",
     "output_type": "stream",
     "text": [
      "Created Labels from the Classes\n",
      "Converting Data -> X,y + train,test\n",
      "{1: 1, 7: 2, 3: 3, 9: 4, 2: 5, 6: 6, 0: 7, 4: 8, 8: 9, 5: 10}\n",
      "{1: 1, 2: 7, 3: 3, 4: 9, 5: 2, 6: 6, 7: 0, 8: 4, 9: 8, 10: 5}\n",
      "10\n",
      "26250 15750 26250 15750\n"
     ]
    }
   ],
   "source": [
    "ds = DataSet()\n",
    "X, y, classes, labels, idx, labels_r, X_train, y_train, X_test, y_test = ds.load_data()\n",
    "print(labels)\n",
    "print(labels_r)\n",
    "print(idx)\n",
    "print(len(X_train), len(X_test), len(y_train), len(y_test))"
   ]
  },
  {
   "cell_type": "code",
   "execution_count": 3,
   "id": "2eeb2725-c778-4cae-8098-917188059ad8",
   "metadata": {},
   "outputs": [],
   "source": [
    "model = CNN(idx_of_classes=idx).to(DEVICE)\n",
    "criterion = MSELoss()\n",
    "optimizer = Adam(model.parameters(), lr=0.001)"
   ]
  },
  {
   "cell_type": "code",
   "execution_count": null,
   "id": "4fb0e91e-c973-43d8-b9b1-da20ce0324f6",
   "metadata": {},
   "outputs": [],
   "source": [
    "hp = Help_Funcs()\n",
    "(\n",
    "    PROJECT_NAME,\n",
    "    name,\n",
    "    epochs,\n",
    "    X_train,\n",
    "    y_train,\n",
    "    X_test,\n",
    "    y_test,\n",
    "    batch_size,\n",
    "    device,\n",
    "    model,\n",
    "    criterion,\n",
    "    optimizer,\n",
    ") = hp.train(\n",
    "    PROJECT_NAME,\n",
    "    \"BaseLine CNN\",\n",
    "    125,\n",
    "    X_train.view(-1, 1, 28, 28).to(DEVICE),\n",
    "    y_train.to(DEVICE),\n",
    "    X_test.view(-1, 1, 28, 28),\n",
    "    y_test.to(DEVICE),\n",
    "    BATCH_SIZE,\n",
    "    DEVICE,\n",
    "    model,\n",
    "    criterion,\n",
    "    optimizer,\n",
    "    labels_r,\n",
    ")"
   ]
  },
  {
   "cell_type": "code",
   "execution_count": null,
   "id": "a383afd0-0cac-4d77-8a7c-6615ccf40009",
   "metadata": {},
   "outputs": [],
   "source": [
    "img = cv2.imread(f'./Model/tests/{os.listdir(\"./Model/tests/\")[0]}')\n",
    "img = cv2.cvtColor(img,cv2.COLOR_BGR2GRAY)\n",
    "img = cv2.resize(img,(28,28))\n",
    "img = img / 255.0"
   ]
  },
  {
   "cell_type": "code",
   "execution_count": null,
   "id": "4b91a7a8-8c33-4c42-a71b-1d611a8b7b19",
   "metadata": {},
   "outputs": [],
   "source": [
    "plt.imshow(img)"
   ]
  },
  {
   "cell_type": "code",
   "execution_count": null,
   "id": "747d322d-ee5f-4f5c-893e-02b708a40230",
   "metadata": {},
   "outputs": [],
   "source": [
    "model.eval()\n",
    "img = torch.tensor(img).view(-1,1,28,28).float().to('cuda')\n",
    "with torch.no_grad():\n",
    "    pred = model(img)"
   ]
  },
  {
   "cell_type": "code",
   "execution_count": null,
   "id": "6b4855af-fc62-46f2-95ec-a8937f2f849f",
   "metadata": {},
   "outputs": [],
   "source": [
    "pred"
   ]
  },
  {
   "cell_type": "code",
   "execution_count": null,
   "id": "aa456e88-41e8-4766-b43f-7d030986ed39",
   "metadata": {},
   "outputs": [],
   "source": [
    "labels_r[int(torch.argmax(pred[0]))]"
   ]
  },
  {
   "cell_type": "code",
   "execution_count": null,
   "id": "877073f6-053c-426b-b934-affb7896eac2",
   "metadata": {},
   "outputs": [],
   "source": [
    "model = CNN(idx_of_classes=idx).to(DEVICE)\n",
    "criterion = CrossEntropyLoss()\n",
    "optimizer = Adam(model.parameters(), lr=0.001)"
   ]
  },
  {
   "cell_type": "code",
   "execution_count": null,
   "id": "2d2248d0-f6be-42d3-b5f7-27c2f3dd004b",
   "metadata": {},
   "outputs": [],
   "source": []
  }
 ],
 "metadata": {
  "kernelspec": {
   "display_name": "Python 3 (ipykernel)",
   "language": "python",
   "name": "python3"
  },
  "language_info": {
   "codemirror_mode": {
    "name": "ipython",
    "version": 3
   },
   "file_extension": ".py",
   "mimetype": "text/x-python",
   "name": "python",
   "nbconvert_exporter": "python",
   "pygments_lexer": "ipython3",
   "version": "3.8.10"
  }
 },
 "nbformat": 4,
 "nbformat_minor": 5
}
