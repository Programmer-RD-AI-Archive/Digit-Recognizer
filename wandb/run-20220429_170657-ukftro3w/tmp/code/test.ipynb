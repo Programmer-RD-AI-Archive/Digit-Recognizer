{
 "cells": [
  {
   "cell_type": "code",
   "execution_count": 1,
   "id": "a5cd3f42-0532-4391-ad87-c2138d62f3c2",
   "metadata": {},
   "outputs": [],
   "source": [
    "from Model import *"
   ]
  },
  {
   "cell_type": "code",
   "execution_count": 2,
   "id": "1b1f433c-d7b6-4177-91a4-7b1d45c07708",
   "metadata": {},
   "outputs": [
    {
     "name": "stdout",
     "output_type": "stream",
     "text": [
      "Loading Data\n"
     ]
    },
    {
     "name": "stderr",
     "output_type": "stream",
     "text": [
      "100%|██████████████████████████| 42000/42000 [00:01<00:00, 39005.92it/s]\n"
     ]
    },
    {
     "name": "stdout",
     "output_type": "stream",
     "text": [
      "Data Loaded\n",
      "Creating Labels from the Classes\n"
     ]
    },
    {
     "name": "stderr",
     "output_type": "stream",
     "text": [
      "100%|███████████████████████████████| 10/10 [00:00<00:00, 315361.20it/s]\n"
     ]
    },
    {
     "name": "stdout",
     "output_type": "stream",
     "text": [
      "Created Labels from the Classes\n",
      "Converting Data -> X,y + train,test\n",
      "{1: 1, 7: 2, 3: 3, 9: 4, 2: 5, 6: 6, 0: 7, 4: 8, 8: 9, 5: 10}\n",
      "{1: 1, 2: 7, 3: 3, 4: 9, 5: 2, 6: 6, 7: 0, 8: 4, 9: 8, 10: 5}\n",
      "10\n",
      "31500 10500 31500 10500\n"
     ]
    }
   ],
   "source": [
    "ds = DataSet()\n",
    "X, y, classes, labels, idx, labels_r, X_train, y_train, X_test, y_test = ds.load_data()\n",
    "print(labels)\n",
    "print(labels_r)\n",
    "print(idx)\n",
    "print(len(X_train), len(X_test), len(y_train), len(y_test))"
   ]
  },
  {
   "cell_type": "code",
   "execution_count": 3,
   "id": "2eeb2725-c778-4cae-8098-917188059ad8",
   "metadata": {},
   "outputs": [],
   "source": [
    "model = CNN(idx_of_classes=idx).to(DEVICE)\n",
    "criterion = CrossEntropyLoss()\n",
    "optimizer = Adam(model.parameters(), lr=0.001)"
   ]
  },
  {
   "cell_type": "code",
   "execution_count": null,
   "id": "4fb0e91e-c973-43d8-b9b1-da20ce0324f6",
   "metadata": {},
   "outputs": [
    {
     "name": "stderr",
     "output_type": "stream",
     "text": [
      "\u001b[34m\u001b[1mwandb\u001b[0m: Currently logged in as: \u001b[33mranuga-d\u001b[0m (use `wandb login --relogin` to force relogin)\n",
      "RuntimeError: module compiled against API version 0xe but this version of numpy is 0xd\n"
     ]
    },
    {
     "data": {
      "text/html": [
       "Tracking run with wandb version 0.12.15"
      ],
      "text/plain": [
       "<IPython.core.display.HTML object>"
      ]
     },
     "metadata": {},
     "output_type": "display_data"
    },
    {
     "data": {
      "text/html": [
       "Run data is saved locally in <code>/media/indika/Sync/Programmer-RD-AI/Programming/Projects/Python/Artifical-Intelligence/PyTorch/CNN/Digit-Recognizer/wandb/run-20220429_170657-ukftro3w</code>"
      ],
      "text/plain": [
       "<IPython.core.display.HTML object>"
      ]
     },
     "metadata": {},
     "output_type": "display_data"
    },
    {
     "data": {
      "text/html": [
       "Syncing run <strong><a href=\"https://wandb.ai/ranuga-d/Digit-Recognizer-Competition/runs/ukftro3w\" target=\"_blank\">BaseLine CNN</a></strong> to <a href=\"https://wandb.ai/ranuga-d/Digit-Recognizer-Competition\" target=\"_blank\">Weights & Biases</a> (<a href=\"https://wandb.me/run\" target=\"_blank\">docs</a>)<br/>"
      ],
      "text/plain": [
       "<IPython.core.display.HTML object>"
      ]
     },
     "metadata": {},
     "output_type": "display_data"
    },
    {
     "name": "stderr",
     "output_type": "stream",
     "text": [
      "  0%|                                           | 0/125 [00:00<?, ?it/s]\n",
      "12it [00:00, 20100.50it/s]\n",
      "\n",
      "0it [00:00, ?it/s]\u001b[A\n",
      "2797it [00:00, 27949.04it/s]\u001b[A\n",
      "5767it [00:00, 28901.48it/s]\u001b[A\n",
      "10500it [00:00, 28572.05it/s][A\n",
      "  1%|▎                                  | 1/125 [00:04<09:01,  4.37s/it]\n",
      "12it [00:00, 10265.48it/s]\n",
      "\n",
      "0it [00:00, ?it/s]\u001b[A\n",
      "2777it [00:00, 27766.92it/s]\u001b[A\n",
      "5702it [00:00, 28637.85it/s]\u001b[A\n",
      "10500it [00:00, 28324.16it/s][A\n",
      "  2%|▌                                  | 2/125 [00:08<08:55,  4.36s/it]\n",
      "12it [00:00, 11295.25it/s]\n",
      "\n",
      "0it [00:00, ?it/s]\u001b[A\n",
      "2618it [00:00, 26174.53it/s]\u001b[A\n",
      "5380it [00:00, 26968.55it/s]\u001b[A\n",
      "10500it [00:00, 26520.31it/s][A\n",
      "  2%|▊                                  | 3/125 [00:13<08:54,  4.38s/it]\n",
      "12it [00:00, 14777.35it/s]\n",
      "\n",
      "0it [00:00, ?it/s]\u001b[A\n",
      "2815it [00:00, 28142.38it/s]\u001b[A\n",
      "5630it [00:00, 27879.66it/s]\u001b[A\n",
      "10500it [00:00, 27941.43it/s][A\n",
      "  3%|█                                  | 4/125 [00:17<09:10,  4.55s/it]\n",
      "12it [00:00, 6162.81it/s]\n",
      "\n",
      "0it [00:00, ?it/s]\u001b[A\n",
      "2841it [00:00, 28404.95it/s]\u001b[A\n",
      "5682it [00:00, 28332.68it/s]\u001b[A\n",
      "10500it [00:00, 28646.10it/s][A\n",
      "  4%|█▍                                 | 5/125 [00:22<09:11,  4.59s/it]\n",
      "12it [00:00, 10145.46it/s]\n",
      "\n",
      "0it [00:00, ?it/s]\u001b[A\n",
      "2847it [00:00, 28461.21it/s]\u001b[A\n",
      "5845it [00:00, 29331.20it/s]\u001b[A\n",
      "10500it [00:00, 28561.34it/s][A\n",
      "  5%|█▋                                 | 6/125 [00:27<09:02,  4.56s/it]\n",
      "12it [00:00, 13831.18it/s]\n",
      "\n",
      "0it [00:00, ?it/s]\u001b[A\n",
      "2669it [00:00, 26682.65it/s]\u001b[A\n",
      "5576it [00:00, 28080.84it/s]\u001b[A\n",
      "10500it [00:00, 27218.45it/s][A\n",
      "  6%|█▉                                 | 7/125 [00:31<08:58,  4.56s/it]\n",
      "12it [00:00, 15105.54it/s]\n",
      "\n",
      "0it [00:00, ?it/s]\u001b[A\n",
      "2749it [00:00, 27482.56it/s]\u001b[A\n",
      "5498it [00:00, 27132.57it/s]\u001b[A\n",
      "10500it [00:00, 26101.36it/s][A\n",
      "  6%|██▏                                | 8/125 [00:36<08:53,  4.56s/it]\n",
      "12it [00:00, 9339.70it/s]\n",
      "\n",
      "0it [00:00, ?it/s]\u001b[A\n",
      "2929it [00:00, 29285.49it/s]\u001b[A\n",
      "5858it [00:00, 29074.99it/s]\u001b[A\n",
      "10500it [00:00, 28817.78it/s][A\n",
      "  7%|██▌                                | 9/125 [00:41<08:58,  4.64s/it]\n",
      "12it [00:00, 12514.08it/s]\n",
      "\n",
      "0it [00:00, ?it/s]\u001b[A\n",
      "2566it [00:00, 25642.60it/s]\u001b[A\n",
      "5295it [00:00, 26609.65it/s]\u001b[A\n",
      "10500it [00:00, 26630.34it/s][A\n",
      "  8%|██▋                               | 10/125 [00:45<08:43,  4.55s/it]\n",
      "12it [00:00, 16121.60it/s]\n",
      "\n",
      "0it [00:00, ?it/s]\u001b[A\n",
      "2713it [00:00, 27126.21it/s]\u001b[A\n",
      "5539it [00:00, 27775.94it/s]\u001b[A\n",
      "10500it [00:00, 27953.13it/s][A\n",
      "  9%|██▉                               | 11/125 [00:49<08:36,  4.53s/it]\n",
      "12it [00:00, 7852.05it/s]\n",
      "\n",
      "0it [00:00, ?it/s]\u001b[A\n",
      "2097it [00:00, 20962.22it/s]\u001b[A\n",
      "4844it [00:00, 24776.94it/s]\u001b[A\n",
      "7701it [00:00, 26506.18it/s]\u001b[A\n",
      "10500it [00:00, 25636.48it/s]\u001b[A\n",
      " 10%|███▎                              | 12/125 [00:54<08:38,  4.59s/it]\n",
      "12it [00:00, 14952.96it/s]\n",
      "\n",
      "0it [00:00, ?it/s]\u001b[A\n",
      "2888it [00:00, 28873.69it/s]\u001b[A\n",
      "5776it [00:00, 28572.02it/s]\u001b[A\n",
      "10500it [00:00, 28143.31it/s][A\n",
      " 10%|███▌                              | 13/125 [00:59<08:42,  4.67s/it]\n",
      "12it [00:00, 12357.39it/s]\n",
      "\n",
      "0it [00:00, ?it/s]\u001b[A\n",
      "2928it [00:00, 29269.56it/s]\u001b[A\n",
      "5855it [00:00, 28667.18it/s]\u001b[A\n",
      "10500it [00:00, 28733.47it/s][A\n",
      " 11%|███▊                              | 14/125 [01:04<08:38,  4.67s/it]\n",
      "12it [00:00, 14222.00it/s]\n",
      "\n",
      "0it [00:00, ?it/s]\u001b[A\n",
      "2842it [00:00, 28413.05it/s]\u001b[A\n",
      "5684it [00:00, 28140.95it/s]\u001b[A\n",
      "10500it [00:00, 27766.45it/s][A\n",
      " 12%|████                              | 15/125 [01:08<08:26,  4.60s/it]\n",
      "12it [00:00, 10356.31it/s]\n",
      "\n",
      "0it [00:00, ?it/s]\u001b[A\n",
      "2774it [00:00, 27735.99it/s]\u001b[A\n",
      "5548it [00:00, 27516.14it/s]\u001b[A\n",
      "10500it [00:00, 27423.58it/s][A\n",
      " 13%|████▎                             | 16/125 [01:13<08:19,  4.59s/it]\n",
      "12it [00:00, 16666.11it/s]\n",
      "\n",
      "0it [00:00, ?it/s]\u001b[A\n",
      "2773it [00:00, 27722.49it/s]\u001b[A\n",
      "5724it [00:00, 28766.48it/s]\u001b[A\n",
      "10500it [00:00, 28358.34it/s][A\n",
      " 14%|████▌                             | 17/125 [01:17<08:10,  4.54s/it]\n",
      "12it [00:00, 17236.87it/s]\n",
      "\n",
      "0it [00:00, ?it/s]\u001b[A\n",
      "2600it [00:00, 25997.92it/s]\u001b[A\n",
      "5210it [00:00, 26053.45it/s]\u001b[A\n",
      "10500it [00:00, 27735.44it/s][A\n",
      " 14%|████▉                             | 18/125 [01:22<08:07,  4.55s/it]\n",
      "12it [00:00, 20610.83it/s]\n",
      "\n",
      "0it [00:00, ?it/s]\u001b[A\n",
      "2828it [00:00, 28274.30it/s]\u001b[A\n",
      "5656it [00:00, 28090.59it/s]\u001b[A\n",
      "10500it [00:00, 27834.34it/s][A\n",
      " 15%|█████▏                            | 19/125 [01:26<08:08,  4.60s/it]\n",
      "12it [00:00, 14948.51it/s]\n",
      "\n",
      "0it [00:00, ?it/s]\u001b[A\n",
      "2622it [00:00, 26211.71it/s]\u001b[A\n",
      "5528it [00:00, 27871.97it/s]\u001b[A\n",
      "10500it [00:00, 27155.45it/s][A\n",
      " 16%|█████▍                            | 20/125 [01:31<08:03,  4.61s/it]\n",
      "12it [00:00, 13942.28it/s]\n",
      "\n",
      "0it [00:00, ?it/s]\u001b[A\n",
      "2707it [00:00, 27062.48it/s]\u001b[A\n",
      "5596it [00:00, 28135.73it/s]\u001b[A\n",
      "10500it [00:00, 28244.76it/s][A\n",
      " 17%|█████▋                            | 21/125 [01:35<07:56,  4.58s/it]\n",
      "12it [00:00, 16400.02it/s]\n",
      "\n",
      "0it [00:00, ?it/s]\u001b[A\n",
      "2801it [00:00, 28004.02it/s]\u001b[A\n",
      "5780it [00:00, 29053.01it/s]\u001b[A\n",
      "10500it [00:00, 29028.85it/s][A\n",
      " 18%|█████▉                            | 22/125 [01:40<07:49,  4.56s/it]\n",
      "12it [00:00, 14555.13it/s]\n",
      "\n",
      "0it [00:00, ?it/s]\u001b[A\n",
      "2927it [00:00, 29263.33it/s]\u001b[A\n",
      "5854it [00:00, 28831.14it/s]\u001b[A\n",
      "10500it [00:00, 28857.58it/s][A\n",
      " 18%|██████▎                           | 23/125 [01:45<07:46,  4.58s/it]\n",
      "12it [00:00, 18443.26it/s]\n",
      "\n",
      "0it [00:00, ?it/s]\u001b[A\n",
      "2564it [00:00, 25634.16it/s]\u001b[A\n",
      "5139it [00:00, 25699.57it/s]\u001b[A\n",
      "10500it [00:00, 26300.05it/s][A\n",
      " 19%|██████▌                           | 24/125 [01:49<07:46,  4.62s/it]\n",
      "12it [00:00, 18717.61it/s]\n",
      "\n",
      "0it [00:00, ?it/s]\u001b[A\n",
      "2715it [00:00, 27144.59it/s]\u001b[A\n",
      "5444it [00:00, 27226.43it/s]\u001b[A\n",
      "10500it [00:00, 27757.50it/s][A\n",
      " 20%|██████▊                           | 25/125 [01:54<07:40,  4.60s/it]\n",
      "12it [00:00, 16906.84it/s]\n",
      "\n",
      "0it [00:00, ?it/s]\u001b[A\n",
      "2722it [00:00, 27214.06it/s]\u001b[A\n",
      "5655it [00:00, 28453.05it/s]\u001b[A\n",
      "10500it [00:00, 27999.45it/s][A\n",
      " 21%|███████                           | 26/125 [01:58<07:34,  4.59s/it]\n",
      "12it [00:00, 15577.73it/s]\n",
      "\n",
      "0it [00:00, ?it/s]\u001b[A\n",
      "2714it [00:00, 27133.43it/s]\u001b[A\n",
      "5506it [00:00, 27592.76it/s]\u001b[A\n",
      "10500it [00:00, 28139.17it/s][A\n",
      " 22%|███████▎                          | 27/125 [02:03<07:29,  4.59s/it]\n",
      "12it [00:00, 12228.29it/s]\n",
      "\n",
      "0it [00:00, ?it/s]\u001b[A\n",
      "2561it [00:00, 25580.57it/s]\u001b[A\n",
      "5268it [00:00, 26392.74it/s]\u001b[A\n",
      "10500it [00:00, 26707.47it/s][A\n",
      " 22%|███████▌                          | 28/125 [02:08<07:29,  4.63s/it]\n",
      "12it [00:00, 14891.02it/s]\n",
      "\n",
      "0it [00:00, ?it/s]\u001b[A\n",
      "2643it [00:00, 26424.67it/s]\u001b[A\n",
      "5286it [00:00, 24991.13it/s]\u001b[A\n",
      "10500it [00:00, 25760.69it/s][A\n",
      " 23%|███████▉                          | 29/125 [02:12<07:25,  4.64s/it]\n",
      "12it [00:00, 16304.39it/s]\n",
      "\n",
      "0it [00:00, ?it/s]\u001b[A\n",
      "2473it [00:00, 24722.13it/s]\u001b[A\n",
      "5220it [00:00, 26332.79it/s]\u001b[A\n",
      "10500it [00:00, 27337.69it/s][A\n",
      " 24%|████████▏                         | 30/125 [02:18<07:37,  4.82s/it]wandb: Network error (ReadTimeout), entering retry loop.\n",
      "\n",
      "12it [00:00, 7060.13it/s]\n",
      "\n",
      "0it [00:00, ?it/s]\u001b[A\n",
      "2579it [00:00, 25785.29it/s]\u001b[A\n",
      "5158it [00:00, 25381.77it/s]\u001b[A\n",
      "10500it [00:00, 26131.17it/s][A\n",
      " 25%|████████▍                         | 31/125 [02:23<07:41,  4.91s/it]\n",
      "12it [00:00, 16688.21it/s]\n",
      "\n",
      "0it [00:00, ?it/s]\u001b[A\n",
      "2882it [00:00, 28809.24it/s]\u001b[A\n",
      "5763it [00:00, 27880.26it/s]\u001b[A\n",
      "10500it [00:00, 27153.61it/s][A\n",
      " 26%|████████▋                         | 32/125 [02:28<07:55,  5.11s/it]\n",
      "12it [00:00, 18203.13it/s]\n",
      "\n",
      "0it [00:00, ?it/s]\u001b[A\n",
      "2366it [00:00, 23657.60it/s]\u001b[A\n",
      "4732it [00:00, 23626.52it/s]\u001b[A\n",
      "7095it [00:00, 23590.37it/s]\u001b[A\n",
      "10500it [00:00, 24176.08it/s][A\n",
      " 26%|████████▉                         | 33/125 [02:34<07:52,  5.14s/it]\n",
      "12it [00:00, 16929.58it/s]\n",
      "\n",
      "0it [00:00, ?it/s]\u001b[A\n",
      "2612it [00:00, 26112.99it/s]\u001b[A\n",
      "5224it [00:00, 24967.04it/s]\u001b[A\n",
      "7873it [00:00, 25631.01it/s]\u001b[A\n",
      "10500it [00:00, 23730.34it/s]\u001b[A\n",
      " 27%|█████████▏                        | 34/125 [02:39<07:55,  5.23s/it]\n",
      "12it [00:00, 1870.51it/s]\n",
      "\n",
      "0it [00:00, ?it/s]\u001b[A\n",
      "2751it [00:00, 27508.12it/s]\u001b[A\n",
      "5502it [00:00, 27153.31it/s]\u001b[A\n",
      "10500it [00:00, 26963.82it/s][A\n",
      " 28%|█████████▌                        | 35/125 [02:44<07:56,  5.30s/it]\n",
      "12it [00:00, 17248.68it/s]\n",
      "\n",
      "0it [00:00, ?it/s]\u001b[A\n",
      "2407it [00:00, 24068.65it/s]\u001b[A\n",
      "5150it [00:00, 26041.06it/s]\u001b[A\n",
      "10500it [00:00, 26285.84it/s][A\n",
      " 29%|█████████▊                        | 36/125 [02:50<07:47,  5.26s/it]\n",
      "12it [00:00, 16782.81it/s]\n",
      "\n",
      "0it [00:00, ?it/s]\u001b[A\n",
      "2779it [00:00, 27785.39it/s]\u001b[A\n",
      "5686it [00:00, 28535.20it/s]\u001b[A\n",
      "10500it [00:00, 28406.54it/s][A\n",
      " 30%|██████████                        | 37/125 [02:55<07:40,  5.23s/it]\n",
      "12it [00:00, 8767.05it/s]\n",
      "\n",
      "0it [00:00, ?it/s]\u001b[A\n",
      "2770it [00:00, 27697.38it/s]\u001b[A\n",
      "5730it [00:00, 28812.34it/s]\u001b[A\n",
      "10500it [00:00, 28918.09it/s][A\n",
      " 30%|██████████▎                       | 38/125 [02:59<07:12,  4.97s/it]\n",
      "12it [00:00, 13625.24it/s]\n",
      "\n",
      "0it [00:00, ?it/s]\u001b[A\n",
      "2745it [00:00, 27446.49it/s]\u001b[A\n",
      "5510it [00:00, 27561.23it/s]\u001b[A\n",
      "10500it [00:00, 27880.07it/s][A\n",
      " 31%|██████████▌                       | 39/125 [03:04<06:54,  4.83s/it]\n",
      "12it [00:00, 13834.98it/s]\n",
      "\n",
      "0it [00:00, ?it/s]\u001b[A\n",
      "2782it [00:00, 27814.52it/s]\u001b[A\n",
      "5712it [00:00, 28685.86it/s]\u001b[A\n",
      "10500it [00:00, 28807.32it/s][A\n",
      " 32%|██████████▉                       | 40/125 [03:08<06:38,  4.69s/it]\n",
      "12it [00:00, 14161.97it/s]\n",
      "\n",
      "0it [00:00, ?it/s]\u001b[A\n",
      "2800it [00:00, 27994.95it/s]\u001b[A\n",
      "5745it [00:00, 28841.43it/s]\u001b[A\n",
      "10500it [00:00, 28818.95it/s][A\n",
      " 33%|███████████▏                      | 41/125 [03:12<06:26,  4.60s/it]\n",
      "12it [00:00, 14873.42it/s]\n",
      "\n",
      "0it [00:00, ?it/s]\u001b[A\n",
      "2870it [00:00, 28698.11it/s]\u001b[A\n",
      "5804it [00:00, 29073.70it/s]\u001b[A\n",
      "10500it [00:00, 28959.65it/s][A\n",
      " 34%|███████████▍                      | 42/125 [03:17<06:21,  4.60s/it]"
     ]
    }
   ],
   "source": [
    "hp = Help_Funcs()\n",
    "(\n",
    "    PROJECT_NAME,\n",
    "    name,\n",
    "    epochs,\n",
    "    X_train,\n",
    "    y_train,\n",
    "    X_test,\n",
    "    y_test,\n",
    "    batch_size,\n",
    "    device,\n",
    "    model,\n",
    "    criterion,\n",
    "    optimizer,\n",
    ") = hp.train(\n",
    "    PROJECT_NAME,\n",
    "    \"BaseLine CNN\",\n",
    "    125,\n",
    "    X_train.view(-1, 1, 28, 28).to(DEVICE),\n",
    "    y_train.to(DEVICE),\n",
    "    X_test.view(-1, 1, 28, 28),\n",
    "    y_test.to(DEVICE),\n",
    "    BATCH_SIZE,\n",
    "    DEVICE,\n",
    "    model,\n",
    "    criterion,\n",
    "    optimizer,\n",
    "    labels_r,\n",
    ")"
   ]
  },
  {
   "cell_type": "code",
   "execution_count": 10,
   "id": "a383afd0-0cac-4d77-8a7c-6615ccf40009",
   "metadata": {},
   "outputs": [],
   "source": [
    "img = cv2.imread(f'./Model/tests/{os.listdir(\"./Model/tests/\")[0]}')\n",
    "img = cv2.cvtColor(img,cv2.COLOR_BGR2GRAY)\n",
    "img = cv2.resize(img,(28,28))\n",
    "img = img / 255.0"
   ]
  },
  {
   "cell_type": "code",
   "execution_count": 11,
   "id": "4b91a7a8-8c33-4c42-a71b-1d611a8b7b19",
   "metadata": {},
   "outputs": [
    {
     "data": {
      "text/plain": [
       "<matplotlib.image.AxesImage at 0x7f24f8f37af0>"
      ]
     },
     "execution_count": 11,
     "metadata": {},
     "output_type": "execute_result"
    },
    {
     "data": {
      "image/png": "[encoded data removed]",
      "text/plain": [
       "<Figure size 432x288 with 1 Axes>"
      ]
     },
     "metadata": {
      "needs_background": "light"
     },
     "output_type": "display_data"
    }
   ],
   "source": [
    "plt.imshow(img)"
   ]
  },
  {
   "cell_type": "code",
   "execution_count": 20,
   "id": "747d322d-ee5f-4f5c-893e-02b708a40230",
   "metadata": {},
   "outputs": [
    {
     "name": "stderr",
     "output_type": "stream",
     "text": [
      "/tmp/ipykernel_158809/2105470809.py:2: UserWarning: To copy construct from a tensor, it is recommended to use sourceTensor.clone().detach() or sourceTensor.clone().detach().requires_grad_(True), rather than torch.tensor(sourceTensor).\n",
      "  img = torch.tensor(img).view(-1,1,28,28).float().to('cuda')\n"
     ]
    },
    {
     "ename": "RuntimeError",
     "evalue": "Input type (torch.cuda.FloatTensor) and weight type (torch.FloatTensor) should be the same",
     "output_type": "error",
     "traceback": [
      "\u001b[0;31m---------------------------------------------------------------------------\u001b[0m",
      "\u001b[0;31mRuntimeError\u001b[0m                              Traceback (most recent call last)",
      "\u001b[0;32m/tmp/ipykernel_158809/2105470809.py\u001b[0m in \u001b[0;36m<module>\u001b[0;34m\u001b[0m\n\u001b[1;32m      2\u001b[0m \u001b[0mimg\u001b[0m \u001b[0;34m=\u001b[0m \u001b[0mtorch\u001b[0m\u001b[0;34m.\u001b[0m\u001b[0mtensor\u001b[0m\u001b[0;34m(\u001b[0m\u001b[0mimg\u001b[0m\u001b[0;34m)\u001b[0m\u001b[0;34m.\u001b[0m\u001b[0mview\u001b[0m\u001b[0;34m(\u001b[0m\u001b[0;34m-\u001b[0m\u001b[0;36m1\u001b[0m\u001b[0;34m,\u001b[0m\u001b[0;36m1\u001b[0m\u001b[0;34m,\u001b[0m\u001b[0;36m28\u001b[0m\u001b[0;34m,\u001b[0m\u001b[0;36m28\u001b[0m\u001b[0;34m)\u001b[0m\u001b[0;34m.\u001b[0m\u001b[0mfloat\u001b[0m\u001b[0;34m(\u001b[0m\u001b[0;34m)\u001b[0m\u001b[0;34m.\u001b[0m\u001b[0mto\u001b[0m\u001b[0;34m(\u001b[0m\u001b[0;34m'cuda'\u001b[0m\u001b[0;34m)\u001b[0m\u001b[0;34m\u001b[0m\u001b[0;34m\u001b[0m\u001b[0m\n\u001b[1;32m      3\u001b[0m \u001b[0;32mwith\u001b[0m \u001b[0mtorch\u001b[0m\u001b[0;34m.\u001b[0m\u001b[0mno_grad\u001b[0m\u001b[0;34m(\u001b[0m\u001b[0;34m)\u001b[0m\u001b[0;34m:\u001b[0m\u001b[0;34m\u001b[0m\u001b[0;34m\u001b[0m\u001b[0m\n\u001b[0;32m----> 4\u001b[0;31m     \u001b[0mpred\u001b[0m \u001b[0;34m=\u001b[0m \u001b[0mmodel\u001b[0m\u001b[0;34m(\u001b[0m\u001b[0mimg\u001b[0m\u001b[0;34m)\u001b[0m\u001b[0;34m\u001b[0m\u001b[0;34m\u001b[0m\u001b[0m\n\u001b[0m",
      "\u001b[0;32m/usr/local/lib/python3.8/dist-packages/torch/nn/modules/module.py\u001b[0m in \u001b[0;36m_call_impl\u001b[0;34m(self, *input, **kwargs)\u001b[0m\n\u001b[1;32m   1100\u001b[0m         if not (self._backward_hooks or self._forward_hooks or self._forward_pre_hooks or _global_backward_hooks\n\u001b[1;32m   1101\u001b[0m                 or _global_forward_hooks or _global_forward_pre_hooks):\n\u001b[0;32m-> 1102\u001b[0;31m             \u001b[0;32mreturn\u001b[0m \u001b[0mforward_call\u001b[0m\u001b[0;34m(\u001b[0m\u001b[0;34m*\u001b[0m\u001b[0minput\u001b[0m\u001b[0;34m,\u001b[0m \u001b[0;34m**\u001b[0m\u001b[0mkwargs\u001b[0m\u001b[0;34m)\u001b[0m\u001b[0;34m\u001b[0m\u001b[0;34m\u001b[0m\u001b[0m\n\u001b[0m\u001b[1;32m   1103\u001b[0m         \u001b[0;31m# Do not call functions when jit is used\u001b[0m\u001b[0;34m\u001b[0m\u001b[0;34m\u001b[0m\u001b[0;34m\u001b[0m\u001b[0m\n\u001b[1;32m   1104\u001b[0m         \u001b[0mfull_backward_hooks\u001b[0m\u001b[0;34m,\u001b[0m \u001b[0mnon_full_backward_hooks\u001b[0m \u001b[0;34m=\u001b[0m \u001b[0;34m[\u001b[0m\u001b[0;34m]\u001b[0m\u001b[0;34m,\u001b[0m \u001b[0;34m[\u001b[0m\u001b[0;34m]\u001b[0m\u001b[0;34m\u001b[0m\u001b[0;34m\u001b[0m\u001b[0m\n",
      "\u001b[0;32m/media/indika/Sync/Programmer-RD-AI/Programming/Projects/Python/Artifical-Intelligence/PyTorch/CNN/Digit-Recognizer/Model/modelling/pytorch_imp.py\u001b[0m in \u001b[0;36mforward\u001b[0;34m(self, X)\u001b[0m\n\u001b[1;32m     46\u001b[0m     \u001b[0;32mdef\u001b[0m \u001b[0mforward\u001b[0m\u001b[0;34m(\u001b[0m\u001b[0mself\u001b[0m\u001b[0;34m,\u001b[0m \u001b[0mX\u001b[0m\u001b[0;34m)\u001b[0m\u001b[0;34m:\u001b[0m\u001b[0;34m\u001b[0m\u001b[0;34m\u001b[0m\u001b[0m\n\u001b[1;32m     47\u001b[0m         \u001b[0;34m\"\"\"sumary_line\"\"\"\u001b[0m\u001b[0;34m\u001b[0m\u001b[0;34m\u001b[0m\u001b[0m\n\u001b[0;32m---> 48\u001b[0;31m         \u001b[0mpreds\u001b[0m \u001b[0;34m=\u001b[0m \u001b[0mself\u001b[0m\u001b[0;34m.\u001b[0m\u001b[0mmax_pool2d\u001b[0m\u001b[0;34m(\u001b[0m\u001b[0mself\u001b[0m\u001b[0;34m.\u001b[0m\u001b[0mactivation\u001b[0m\u001b[0;34m(\u001b[0m\u001b[0mself\u001b[0m\u001b[0;34m.\u001b[0m\u001b[0mconv1\u001b[0m\u001b[0;34m(\u001b[0m\u001b[0mX\u001b[0m\u001b[0;34m)\u001b[0m\u001b[0;34m)\u001b[0m\u001b[0;34m)\u001b[0m\u001b[0;34m\u001b[0m\u001b[0;34m\u001b[0m\u001b[0m\n\u001b[0m\u001b[1;32m     49\u001b[0m         \u001b[0mpreds\u001b[0m \u001b[0;34m=\u001b[0m \u001b[0mself\u001b[0m\u001b[0;34m.\u001b[0m\u001b[0mmax_pool2d\u001b[0m\u001b[0;34m(\u001b[0m\u001b[0mself\u001b[0m\u001b[0;34m.\u001b[0m\u001b[0mactivation\u001b[0m\u001b[0;34m(\u001b[0m\u001b[0mself\u001b[0m\u001b[0;34m.\u001b[0m\u001b[0mconv2batchnorm\u001b[0m\u001b[0;34m(\u001b[0m\u001b[0mpreds\u001b[0m\u001b[0;34m)\u001b[0m\u001b[0;34m)\u001b[0m\u001b[0;34m)\u001b[0m\u001b[0;34m\u001b[0m\u001b[0;34m\u001b[0m\u001b[0m\n\u001b[1;32m     50\u001b[0m         \u001b[0mpreds\u001b[0m \u001b[0;34m=\u001b[0m \u001b[0mself\u001b[0m\u001b[0;34m.\u001b[0m\u001b[0mmax_pool2d\u001b[0m\u001b[0;34m(\u001b[0m\u001b[0mself\u001b[0m\u001b[0;34m.\u001b[0m\u001b[0mactivation\u001b[0m\u001b[0;34m(\u001b[0m\u001b[0mself\u001b[0m\u001b[0;34m.\u001b[0m\u001b[0mconv3\u001b[0m\u001b[0;34m(\u001b[0m\u001b[0mpreds\u001b[0m\u001b[0;34m)\u001b[0m\u001b[0;34m)\u001b[0m\u001b[0;34m)\u001b[0m\u001b[0;34m\u001b[0m\u001b[0;34m\u001b[0m\u001b[0m\n",
      "\u001b[0;32m/usr/local/lib/python3.8/dist-packages/torch/nn/modules/module.py\u001b[0m in \u001b[0;36m_call_impl\u001b[0;34m(self, *input, **kwargs)\u001b[0m\n\u001b[1;32m   1100\u001b[0m         if not (self._backward_hooks or self._forward_hooks or self._forward_pre_hooks or _global_backward_hooks\n\u001b[1;32m   1101\u001b[0m                 or _global_forward_hooks or _global_forward_pre_hooks):\n\u001b[0;32m-> 1102\u001b[0;31m             \u001b[0;32mreturn\u001b[0m \u001b[0mforward_call\u001b[0m\u001b[0;34m(\u001b[0m\u001b[0;34m*\u001b[0m\u001b[0minput\u001b[0m\u001b[0;34m,\u001b[0m \u001b[0;34m**\u001b[0m\u001b[0mkwargs\u001b[0m\u001b[0;34m)\u001b[0m\u001b[0;34m\u001b[0m\u001b[0;34m\u001b[0m\u001b[0m\n\u001b[0m\u001b[1;32m   1103\u001b[0m         \u001b[0;31m# Do not call functions when jit is used\u001b[0m\u001b[0;34m\u001b[0m\u001b[0;34m\u001b[0m\u001b[0;34m\u001b[0m\u001b[0m\n\u001b[1;32m   1104\u001b[0m         \u001b[0mfull_backward_hooks\u001b[0m\u001b[0;34m,\u001b[0m \u001b[0mnon_full_backward_hooks\u001b[0m \u001b[0;34m=\u001b[0m \u001b[0;34m[\u001b[0m\u001b[0;34m]\u001b[0m\u001b[0;34m,\u001b[0m \u001b[0;34m[\u001b[0m\u001b[0;34m]\u001b[0m\u001b[0;34m\u001b[0m\u001b[0;34m\u001b[0m\u001b[0m\n",
      "\u001b[0;32m/usr/local/lib/python3.8/dist-packages/torch/nn/modules/conv.py\u001b[0m in \u001b[0;36mforward\u001b[0;34m(self, input)\u001b[0m\n\u001b[1;32m    444\u001b[0m \u001b[0;34m\u001b[0m\u001b[0m\n\u001b[1;32m    445\u001b[0m     \u001b[0;32mdef\u001b[0m \u001b[0mforward\u001b[0m\u001b[0;34m(\u001b[0m\u001b[0mself\u001b[0m\u001b[0;34m,\u001b[0m \u001b[0minput\u001b[0m\u001b[0;34m:\u001b[0m \u001b[0mTensor\u001b[0m\u001b[0;34m)\u001b[0m \u001b[0;34m->\u001b[0m \u001b[0mTensor\u001b[0m\u001b[0;34m:\u001b[0m\u001b[0;34m\u001b[0m\u001b[0;34m\u001b[0m\u001b[0m\n\u001b[0;32m--> 446\u001b[0;31m         \u001b[0;32mreturn\u001b[0m \u001b[0mself\u001b[0m\u001b[0;34m.\u001b[0m\u001b[0m_conv_forward\u001b[0m\u001b[0;34m(\u001b[0m\u001b[0minput\u001b[0m\u001b[0;34m,\u001b[0m \u001b[0mself\u001b[0m\u001b[0;34m.\u001b[0m\u001b[0mweight\u001b[0m\u001b[0;34m,\u001b[0m \u001b[0mself\u001b[0m\u001b[0;34m.\u001b[0m\u001b[0mbias\u001b[0m\u001b[0;34m)\u001b[0m\u001b[0;34m\u001b[0m\u001b[0;34m\u001b[0m\u001b[0m\n\u001b[0m\u001b[1;32m    447\u001b[0m \u001b[0;34m\u001b[0m\u001b[0m\n\u001b[1;32m    448\u001b[0m \u001b[0;32mclass\u001b[0m \u001b[0mConv3d\u001b[0m\u001b[0;34m(\u001b[0m\u001b[0m_ConvNd\u001b[0m\u001b[0;34m)\u001b[0m\u001b[0;34m:\u001b[0m\u001b[0;34m\u001b[0m\u001b[0;34m\u001b[0m\u001b[0m\n",
      "\u001b[0;32m/usr/local/lib/python3.8/dist-packages/torch/nn/modules/conv.py\u001b[0m in \u001b[0;36m_conv_forward\u001b[0;34m(self, input, weight, bias)\u001b[0m\n\u001b[1;32m    440\u001b[0m                             \u001b[0mweight\u001b[0m\u001b[0;34m,\u001b[0m \u001b[0mbias\u001b[0m\u001b[0;34m,\u001b[0m \u001b[0mself\u001b[0m\u001b[0;34m.\u001b[0m\u001b[0mstride\u001b[0m\u001b[0;34m,\u001b[0m\u001b[0;34m\u001b[0m\u001b[0;34m\u001b[0m\u001b[0m\n\u001b[1;32m    441\u001b[0m                             _pair(0), self.dilation, self.groups)\n\u001b[0;32m--> 442\u001b[0;31m         return F.conv2d(input, weight, bias, self.stride,\n\u001b[0m\u001b[1;32m    443\u001b[0m                         self.padding, self.dilation, self.groups)\n\u001b[1;32m    444\u001b[0m \u001b[0;34m\u001b[0m\u001b[0m\n",
      "\u001b[0;31mRuntimeError\u001b[0m: Input type (torch.cuda.FloatTensor) and weight type (torch.FloatTensor) should be the same"
     ]
    }
   ],
   "source": [
    "model.eval()\n",
    "img = torch.tensor(img).view(-1,1,28,28).float().to('cuda')\n",
    "with torch.no_grad():\n",
    "    pred = model(img)"
   ]
  },
  {
   "cell_type": "code",
   "execution_count": 19,
   "id": "6b4855af-fc62-46f2-95ec-a8937f2f849f",
   "metadata": {},
   "outputs": [
    {
     "data": {
      "text/plain": [
       "tensor([[2.8385e-04, 6.0652e-04, 1.0208e-03, 2.9056e-02, 2.2125e-03, 4.2019e-06,\n",
       "         6.0490e-03, 3.0691e-04, 9.5992e-01, 5.3709e-04]], device='cuda:0')"
      ]
     },
     "execution_count": 19,
     "metadata": {},
     "output_type": "execute_result"
    }
   ],
   "source": [
    "pred"
   ]
  },
  {
   "cell_type": "code",
   "execution_count": 14,
   "id": "aa456e88-41e8-4766-b43f-7d030986ed39",
   "metadata": {},
   "outputs": [
    {
     "data": {
      "text/plain": [
       "4"
      ]
     },
     "execution_count": 14,
     "metadata": {},
     "output_type": "execute_result"
    }
   ],
   "source": [
    "labels_r[int(torch.argmax(pred[0]))]"
   ]
  },
  {
   "cell_type": "code",
   "execution_count": null,
   "id": "877073f6-053c-426b-b934-affb7896eac2",
   "metadata": {},
   "outputs": [],
   "source": []
  }
 ],
 "metadata": {
  "kernelspec": {
   "display_name": "Python 3 (ipykernel)",
   "language": "python",
   "name": "python3"
  },
  "language_info": {
   "codemirror_mode": {
    "name": "ipython",
    "version": 3
   },
   "file_extension": ".py",
   "mimetype": "text/x-python",
   "name": "python",
   "nbconvert_exporter": "python",
   "pygments_lexer": "ipython3",
   "version": "3.8.10"
  }
 },
 "nbformat": 4,
 "nbformat_minor": 5
}
